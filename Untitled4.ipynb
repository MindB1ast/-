{
  "nbformat": 4,
  "nbformat_minor": 0,
  "metadata": {
    "colab": {
      "name": "Untitled4.ipynb",
      "provenance": [],
      "collapsed_sections": []
    },
    "kernelspec": {
      "name": "python3",
      "display_name": "Python 3"
    },
    "language_info": {
      "name": "python"
    }
  },
  "cells": [
    {
      "cell_type": "code",
      "execution_count": null,
      "metadata": {
        "id": "tx2jg3F6co-v"
      },
      "outputs": [],
      "source": [
        "%matplotlib inline\n",
        "\n",
        "import numpy as np\n",
        "import matplotlib.pyplot as plt"
      ]
    },
    {
      "cell_type": "code",
      "source": [
        "t = 10 # общее время моделирования\n",
        "T = 0.1 # период дискретизации\n",
        "\n",
        "time = np.arange(0,t,T) # массив значений времени\n",
        "\n",
        "x = np.ones(len(time),dtype=int) # входной сигнал, в данном случае на вход подается константа  равная 1\n",
        "y = np.zeros(len(time),dtype=float) # выходой сигнал, инициализированный нулями"
      ],
      "metadata": {
        "id": "0cgNahJ4ctfq"
      },
      "execution_count": null,
      "outputs": []
    },
    {
      "cell_type": "markdown",
      "source": [
        "![изображение.png](data:image/png;base64,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)\n",
        "\n",
        "\n",
        "\n",
        "\n"
      ],
      "metadata": {
        "id": "D-BzfXAgcvOO"
      }
    },
    {
      "cell_type": "markdown",
      "source": [
        "0.732779(z-0.740259)/(z-1)(z-0.818731)=\n",
        "\n",
        "(0.732779 z - 0.542446)/(z^2 - 1.81873 z + 0.818731)=\n",
        "\n",
        "![изображение.png](data:image/png;base64,iVBORw0KGgoAAAANSUhEUgAAANkAAAA3CAYAAACB8O+EAAAMWklEQVR4nO2dfWxT1RvHT1iI+wf2YlTQRFBHSmDKYrZppdtKgS1SXgNzvIyRshljMIAGXBpNaARHNiMyNBDJlKGwuWlcIDBMRCRzogOHruVFJ2DVTMfmZHRvdLT3+/uj6c1u79u57W7X/Tyf5PzRe85z7jnP0+/tuee2T8nQ0BBYYYUV/QoZ6wGwwsr/eyFgMBi6wkTGYOgMExmDoTNMZAyGzjCRMRg6w0TGYOgMExmDoTNMZFHm7t27qKmpwYsvvogdO3aM9XAYUSCmRVZRUYGcnBxYLBYUFhait7dXtq3D4QAhRFCmT58u2fbWrVswGAyorq7mj7ndbqxevRomkwkGgwFWqxW//PILtT1N/a+//gqTyYTS0lI4nU7cuXNHzQWa0OKvxMREkb8IIbj//vsBAE6nE0uWLIHRaMSMGTPw3HPP4e+//+bt1fyl1r9a/eDgIOx2O+bPnw+z2QyLxYKLFy+Oqr+iRcyKbPfu3UhPT8fQ0BAA4PXXX0dGRoZse4fDgdLSUly6dIkvUiIZHh7GggULkJCQIBCBwWDArl27AABerxdLlixBSkoK7t69S2WvVu/xeDB16lR8/vnn2hxBiVZ/TZ8+HdeuXROUgoICvPnmmxgaGkJycjJqamoAAP39/XjqqadgtVp5ezV/KfVPU79q1SqsWrWK7+/o0aOYNGkSurq6qPzh9/u1uE9XYlJkg4ODuPfee/kgA0Bvby8mTpyIL774QtLG4XBg7969qn0XFxdj9+7dMJlMvAj8fj/MZjM++eQTvl1jYyMIIbh06ZKqPU39tm3bsGzZMtXxhfL++++LxhBKOP766KOPBK/dbjcefvhh9Pf3w+v1wmq14scff+Tr9+zZg8TERAB0/lLqX63+6tWrIIQIzg8AKSkpKC8vl5yP3W5HcnIyFi9ejOrqaixevBjfffedZNtoE5Mia2lpASEEN27cEBx/4oknUFpaKmlDI7KKigqsX78eAGRFEqSmpgYTJkzArVu3qO2V6pOSkvDaa6+hqKgIs2bNgsViwcmTJxXHCwAvvPACvv76a8U24fgrlA0bNuC9995THMezzz4rWy/lLy39j6xvaGgAIQTd3d2CNlarFRs3bhTZNjU1YdeuXfj++++xc+dObNy4Ec8//7zsuaJNTIrs008/BSEEHo9HcNxisWD16tWSNg6HAzNnzsSUKVOQnJwMq9WKy5cv8/UNDQ0wmUz8fZCayJYuXYrCwkJqe6X6mzdvghCCLVu24Pr16/B4PNi/fz8IIfjqq68UfUEjsnD8NRKXy4XHHnsMXq9XcJzjOBw6dAibNm3Chg0b8M8//8j2Eeovmv7l6i9cuABCCJqbmwXtcnNz8fLLL4vsa2trYTKZAABXr15Fbm6u7LnGgqiJjOM4nDp1SraMXBrU19eDEIK+vj5BH/PmzVN90/h8PrS2tsJoNOKhhx5CX18ffvjhB8yaNQs3b97k2ymJ7ODBg0hNTeU3DtTs1erPnTsHQgh+/vlnwXkWLVqEpUuXKvpp0aJFKC8vl/TTaPgLCAjk448/Fh33+/144403cODAARQVFeHdd9+VtA/1F23/cvUcx2Hu3LlIT0/HlStX0N3djfr6ejzwwAP48MMPRfY+nw/Xrl2Dx+OB2WxGR0eH2pSjStRE5vf7sWXLFtly6NAhvm1w+fPbb78J+tCy/HG5XPwnRUlJCeLi4hAfH88XQggmTpyI+Ph4wRW6srISubm5gjeMmv369esV68+fPw9CiOgeYfv27UhLS1P00+OPP46VK1dK+mk0/HXu3DmkpqaqbhR0dHSAEIJvvvlGcFzKX1r6l6u/ffs2tm/fjuzsbBQXF+PVV1/F5MmTBReykXAch/z8fDQ3N6O/vx9//fWX4nyiSUwuF4M38rW1tfyx4I38qVOnJG1Cr+LXr18HIUSwZBxJ6CeZ3+/H1q1bYbPZMDw8DADo6enBmTNnqOyV6oeHh5GUlIQDBw4I2uTn58susYLQLBfD8VeQ7OxsHD9+XHBsYGAAn332meDYjRs3QAjhx0LrL6n+tdQDgWeLZrNZdtMDAHbu3Mn79/Dhw8jMzFTsM5rEpMgAoKysDBkZGfw9TuiWtN1ux9q1awEA7e3tiIuL498APp8PNpsNy5YtA8dxkv2PFMHAwACWL1+OgoICuFwu/hHA/v37sXXrVlV7mvq3334bM2fOxL///gsgsMScPHkyrly5ougHGpEB2vwVpLGxEUajUdRXcKfwwoULAAIXiXXr1iE9PR1er5faX3L909YDgccDhYWFWLdunehxysh+nnnmGZSXl+PEiRPo6OiAzWZT7DeaxKzIAKC8vBw5OTmYN28e1q5dK9i5KioqQlZWFoDAlc5ut2PBggVYvnw5rFYrysrKMDg4KNv3SBFUV1dLPhglhIyayABg7969MBqNyMvLg9VqpXq4SisygN5fQGB5lZaWhrNnz4r64TgOFRUVSE1Nxfz585GTk4PNmzfzy2oafyn1T1MPBC5EGRkZeOWVV2Qvlv39/ZgzZw4qKytRUFCA++67D5mZmaKd1rEkpkWmJ01NTfjjjz90s4+0f73p7e1FXV3dmPWvVn/mzBmsXLlS9RkhgJjaSZTiPysyBiNaMJExGDrDRMZg6AwTGYOhM0xkDIbOiERmMBhYYYUVhXLw4MHIRMZgMEYXJjIGQ2eYyBgMnWEiYzB0homMwdAZJjIGQwaO47Bjxw689NJLyMvL45P8aIWJjMGQobm5Genp6QACv1e85557qL6wHAoTGYMhg9frhdPp5F/Pnj1b9MtwGpjIGAwKOjs78cgjj/B5LbUgKzIt2Wi9Xi9KS0thNBphNpuxcOFCwc/+e3p6cPToUaxZswaJiYmirEdq9pFmu1U7fyzj8/nwzjvv4M8//9Rsq3XesRzHixcvKibj0RO/34+CggJ8+eWXYdlLikxrNlq73Y6FCxfyP5774IMP8Oijj/K/Zm1oaEBVVRX27dsHQogoOGr2kWa7VTu/HoxWBlubzYa2trawbLXOO9bjWFtbi4qKirB8oYWRsfP5fCgpKVHNlaKESGThZKNNS0sTpAvzeDwghKCzs1PQ7uzZs5LBUbOPJNstzfnloMneG0Qtgy3HcWhpaYHP5xPZdnV1SaYUr6mpQXFxMdX5laCd93iI49NPPy2ZFi+U0Yid1+tFUVERnxxoaGgIlZWVVH2ORCSycLLRrlmzBllZWRgYGAAQ2JUxGAyidnLBobUPEm62W60io82vQZvB1uVy4eTJkwKhdXd3o66uTjLzbkZGBhobG6nGqgTtvMdDHMvKylBSUqI4j6BtpLFzOByYNGkSUlJSkJKSgmnTpmHbtm2qfYYiElk42Wjb29sxe/ZszJgxA3v27BGtxYPIBYfWHogs261eItOSwdblcqGxsRE+n49P2iklsK6urlFb2tLOezzE8fTp03jwwQdV56xH7MJFJLJwstFu3rwZ+/btw507d1BVVQWz2Yz6+npRO7ng0NoDkWW7VXuzhZO9F9CewdbpdOL48eOor6+X3VBqbW1FXFycIEuTlizMWuYdZDzE8aeffsKECRNE6eGiFbtwkF0u0majbW5uRkJCgmAJ1NvbiylTpoiWOlLB0WIfabZbtTdbONl7g2jJYNvd3Y0jR47gxIkTkvdoQCAO8fHxiuNTysKsZd7A+Ilj8B9fQj9tohW7cJDd+KDNRnv69GlMnTpVdHzu3Ln8/1cFkQqOFvtws90qnV8JLTkPaTPYjlwiOp1OfukYSnAOo7F0oZn3eIljS0sLEhISZOcRRI/YhYvkFr6WbLR9fX2YNm2a4GO9qakJSUlJaG9vF/QrFRxa+3Cz3aqdXwnaQNFmsJXa5GhraxNthgCBZUxycrLoTyrCQW7e4zGOdXV1yM7OVp3zaMcuEmQfRmvJRtve3o4VK1YgMzMTWVlZyMvLw/nz5/n6zs5O5Ofn48knnwQhBHl5eYLMvGr2kWS7pTm/HDSBos1gy3Ecjh07xqfpHklbWxtaW1tFx202G6qqqlTHKYfavMdbHIHAfR/NNvpoxi5SxsXXqvTOdhsptEs6uVTTcnVutxsWiyWm/po1EiKNY09PD7Kzs8P6apMc0cg+PC5E9l/m22+/xVtvvTXWwxhzgl/ZcrvdYz0UzTCRjQPcbjd+//33sR7GmNLW1obbt2+P9TDCgomMwdAZJjIGQ2eYyBgMnWEiYzB0homMwdAZJjIGQ2f+BzrRkaUqc/saAAAAAElFTkSuQmCC)\n",
        "\n",
        "\n"
      ],
      "metadata": {
        "id": "OpgkJFaFhdjA"
      }
    },
    {
      "cell_type": "markdown",
      "source": [
        "(-0.542446z^-2+0.732779z^-1)/(1-1.81873z^-1+0.818731z^-2)\n",
        "Разностное уравнение для непосредственного программирования:\n",
        "y[i]=0.732779x[i-1]-0.542446x[i-2]-(-1.81873y[i-1]+0.818731y[i-2])"
      ],
      "metadata": {
        "id": "42rGU0cbjI_1"
      }
    },
    {
      "cell_type": "code",
      "source": [
        "# задаем начальные значения для дальнейшего вычисления значений разностного уравнения\n",
        "y[0] = 0\n",
        "y[1] = 0.732779*x[0]+1.81873*y[0]\n",
        "#y[2] = 0.732779*x[0]+1.81873*y[0]"
      ],
      "metadata": {
        "id": "tXrsm4Necvf2"
      },
      "execution_count": null,
      "outputs": []
    },
    {
      "cell_type": "code",
      "source": [
        "\n",
        "\n",
        "# вычисляем выходной сигнал\n",
        "for i in range(2,len(time)):\n",
        "    y[i]=0.732779*x[i-1]-0.542446*x[i-2]-(-1.81873*y[i-1]+0.818731*y[i-2])\n",
        "\n"
      ],
      "metadata": {
        "id": "FFerSx8NfnYW"
      },
      "execution_count": null,
      "outputs": []
    },
    {
      "cell_type": "code",
      "source": [
        "\n",
        "\n",
        "# рисуем график\n",
        "plt.plot(time,y,'r')\n",
        "plt.title('Переходная характеристика передаточной функции')\n",
        "plt.xlabel('Время, с')\n",
        "plt.ylabel('y')\n",
        "plt.rcParams[\"figure.figsize\"] = (30,10)\n",
        "plt.grid()\n",
        "plt.show()\n",
        "\n"
      ],
      "metadata": {
        "colab": {
          "base_uri": "https://localhost:8080/",
          "height": 295
        },
        "id": "CRuUiZYef1B0",
        "outputId": "c5c4d990-303d-4423-9fda-85612fa61e66"
      },
      "execution_count": null,
      "outputs": [
        {
          "output_type": "display_data",
          "data": {
            "text/plain": [
              "<Figure size 432x288 with 1 Axes>"
            ],
            "image/png": "[encoded data removed]"
          },
          "metadata": {
            "needs_background": "light"
          }
        }
      ]
    }
  ]
}